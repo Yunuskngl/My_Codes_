{
 "cells": [
  {
   "cell_type": "code",
   "execution_count": 2,
   "id": "fa6329fa-0605-43b9-bd8d-ffd56e74edd3",
   "metadata": {
    "tags": []
   },
   "outputs": [],
   "source": [
    "import numpy as np"
   ]
  },
  {
   "cell_type": "code",
   "execution_count": 3,
   "id": "27895d6d-fadf-429a-8b7b-a1b07f06b3f3",
   "metadata": {
    "tags": []
   },
   "outputs": [],
   "source": [
    "a = np.array([1,2,3,4])\n",
    "b = np.array([7,8,9,10])"
   ]
  },
  {
   "cell_type": "code",
   "execution_count": 4,
   "id": "18a3f006-7024-4251-aec4-a22ae71b5684",
   "metadata": {
    "tags": []
   },
   "outputs": [
    {
     "data": {
      "text/plain": [
       "array([ 7, 16, 27, 40])"
      ]
     },
     "execution_count": 4,
     "metadata": {},
     "output_type": "execute_result"
    }
   ],
   "source": [
    "a*b"
   ]
  },
  {
   "cell_type": "markdown",
   "id": "b956bbd6-e358-4f78-9ab2-ad850bbd23c2",
   "metadata": {},
   "source": [
    "Bu işlemde numpy kütüphanesi sayesinde daha iyi bellek yönetimi ile işlemi kolayca yaparız.Sabit bir type da eleman tutar. "
   ]
  },
  {
   "cell_type": "markdown",
   "id": "2797d0ba-925c-40ce-a9a7-e71b1f74aa79",
   "metadata": {
    "tags": []
   },
   "source": [
    "# Numpy array oluşturma"
   ]
  },
  {
   "cell_type": "code",
   "execution_count": 7,
   "id": "873504ef-7cc4-4220-89e3-234bfa4cd078",
   "metadata": {
    "tags": []
   },
   "outputs": [],
   "source": [
    "import numpy as np "
   ]
  },
  {
   "cell_type": "code",
   "execution_count": 8,
   "id": "f1db91ea-cef2-4a67-a056-379f476cdba7",
   "metadata": {},
   "outputs": [],
   "source": [
    "a = np.array([2.0 , 4, 5, 7.122414124])"
   ]
  },
  {
   "cell_type": "code",
   "execution_count": 9,
   "id": "2367b91e-c095-4e82-85ce-6dde62e6a064",
   "metadata": {
    "tags": []
   },
   "outputs": [
    {
     "data": {
      "text/plain": [
       "numpy.ndarray"
      ]
     },
     "execution_count": 9,
     "metadata": {},
     "output_type": "execute_result"
    }
   ],
   "source": [
    "type(a)"
   ]
  },
  {
   "cell_type": "code",
   "execution_count": 10,
   "id": "c293c427-2a4f-4799-9595-fb62dca4c8d9",
   "metadata": {
    "tags": []
   },
   "outputs": [
    {
     "data": {
      "text/plain": [
       "array([2.        , 4.        , 5.        , 7.12241412])"
      ]
     },
     "execution_count": 10,
     "metadata": {},
     "output_type": "execute_result"
    }
   ],
   "source": [
    "a"
   ]
  },
  {
   "cell_type": "markdown",
   "id": "fe107559-2352-4e9c-bb62-82531d43cc5f",
   "metadata": {},
   "source": [
    "tüm hepsini bir float gibi tanıdı yani elemanları tek tip olarak tutuyor."
   ]
  },
  {
   "cell_type": "code",
   "execution_count": null,
   "id": "a4736af1-81bc-4634-98b4-0d85662c39f8",
   "metadata": {},
   "outputs": [],
   "source": []
  },
  {
   "cell_type": "code",
   "execution_count": 11,
   "id": "21a51ef1-e21c-40a9-b71d-05f5fab6e512",
   "metadata": {
    "tags": []
   },
   "outputs": [],
   "source": [
    "#sıfırdan array oluşturma "
   ]
  },
  {
   "cell_type": "code",
   "execution_count": 13,
   "id": "406c6f3a-2136-43fa-b0ba-558d0dd52811",
   "metadata": {
    "tags": []
   },
   "outputs": [
    {
     "data": {
      "text/plain": [
       "array([0, 0, 0, 0, 0, 0, 0, 0, 0, 0, 0, 0, 0, 0, 0, 0, 0, 0, 0, 0])"
      ]
     },
     "execution_count": 13,
     "metadata": {},
     "output_type": "execute_result"
    }
   ],
   "source": [
    "np.zeros(20 , dtype = int)"
   ]
  },
  {
   "cell_type": "code",
   "execution_count": 14,
   "id": "58f183f8-af48-4dd9-8212-e226011ad1ab",
   "metadata": {
    "tags": []
   },
   "outputs": [
    {
     "data": {
      "text/plain": [
       "array([[1., 1., 1.],\n",
       "       [1., 1., 1.],\n",
       "       [1., 1., 1.]])"
      ]
     },
     "execution_count": 14,
     "metadata": {},
     "output_type": "execute_result"
    }
   ],
   "source": [
    "np.ones((3,3) , dtype = float ) "
   ]
  },
  {
   "cell_type": "code",
   "execution_count": 15,
   "id": "8846aa4e-c582-4879-b129-d71caf2bac94",
   "metadata": {
    "tags": []
   },
   "outputs": [
    {
     "data": {
      "text/plain": [
       "array([[4, 4],\n",
       "       [4, 4],\n",
       "       [4, 4]])"
      ]
     },
     "execution_count": 15,
     "metadata": {},
     "output_type": "execute_result"
    }
   ],
   "source": [
    "np.full((3,2),4)"
   ]
  },
  {
   "cell_type": "code",
   "execution_count": 16,
   "id": "dc8e2061-1bb6-4f5e-bc08-53f654afa790",
   "metadata": {
    "tags": []
   },
   "outputs": [
    {
     "data": {
      "text/plain": [
       "array([ 0,  5, 10, 15, 20, 25, 30])"
      ]
     },
     "execution_count": 16,
     "metadata": {},
     "output_type": "execute_result"
    }
   ],
   "source": [
    "np.arange(0,31,5)"
   ]
  },
  {
   "cell_type": "code",
   "execution_count": 17,
   "id": "3fbb08b1-77b5-4182-8dea-d0d730dee736",
   "metadata": {
    "tags": []
   },
   "outputs": [
    {
     "data": {
      "text/plain": [
       "array([0.        , 0.44444444, 0.88888889, 1.33333333, 1.77777778,\n",
       "       2.22222222, 2.66666667, 3.11111111, 3.55555556, 4.        ])"
      ]
     },
     "execution_count": 17,
     "metadata": {},
     "output_type": "execute_result"
    }
   ],
   "source": [
    "np.linspace(0,4,10)"
   ]
  },
  {
   "cell_type": "code",
   "execution_count": 20,
   "id": "c59088d1-dff7-43ab-8261-c2f7538603b7",
   "metadata": {
    "tags": []
   },
   "outputs": [
    {
     "data": {
      "text/plain": [
       "array([[ 9.05037848,  9.18277278, 13.67821249],\n",
       "       [ 8.42677811, 10.98612262, 10.88704672],\n",
       "       [14.86378871, 18.18320877, 16.34503613]])"
      ]
     },
     "execution_count": 20,
     "metadata": {},
     "output_type": "execute_result"
    }
   ],
   "source": [
    "np.random.normal(10,4,(3,3))"
   ]
  },
  {
   "cell_type": "code",
   "execution_count": 21,
   "id": "6467acbb-4b42-47ed-b2d0-e8d7c3b1eead",
   "metadata": {
    "tags": []
   },
   "outputs": [
    {
     "data": {
      "text/plain": [
       "array([[8, 5, 1, 7],\n",
       "       [0, 8, 3, 6],\n",
       "       [8, 9, 1, 2]])"
      ]
     },
     "execution_count": 21,
     "metadata": {},
     "output_type": "execute_result"
    }
   ],
   "source": [
    "np.random.randint(0,10,(3,4))"
   ]
  },
  {
   "cell_type": "code",
   "execution_count": null,
   "id": "f2317bd4-1a6a-417d-85fb-4a78137d76e4",
   "metadata": {},
   "outputs": [],
   "source": []
  },
  {
   "cell_type": "markdown",
   "id": "65f60ced-d074-48ee-a19d-e08cd3e3c336",
   "metadata": {},
   "source": [
    "# Numpy array özellikleri"
   ]
  },
  {
   "cell_type": "markdown",
   "id": "109cdfa3-25d8-44bb-a12a-ad3fd43ec03c",
   "metadata": {
    "tags": []
   },
   "source": [
    "* **ndim** : _boyut sayısı_\n",
    "* shape : boyut bilgisi\n",
    "* size : toplam eleman sayısı \n",
    "* dtype : array veri tipi"
   ]
  },
  {
   "cell_type": "code",
   "execution_count": 24,
   "id": "bc00ba66-2b43-44be-94aa-31f13b036983",
   "metadata": {
    "tags": []
   },
   "outputs": [],
   "source": [
    "import numpy as np"
   ]
  },
  {
   "cell_type": "code",
   "execution_count": 26,
   "id": "1661b94a-5d3c-4b76-be1c-b0999ee05330",
   "metadata": {
    "tags": []
   },
   "outputs": [],
   "source": [
    "a = np.random.randint(0,10,(3,3))"
   ]
  },
  {
   "cell_type": "code",
   "execution_count": 27,
   "id": "c9857af5-5842-4682-94f7-d4ed768eaa8a",
   "metadata": {
    "tags": []
   },
   "outputs": [
    {
     "data": {
      "text/plain": [
       "2"
      ]
     },
     "execution_count": 27,
     "metadata": {},
     "output_type": "execute_result"
    }
   ],
   "source": [
    "a.ndim"
   ]
  },
  {
   "cell_type": "code",
   "execution_count": 28,
   "id": "9f2d39b6-3135-43fa-98a7-a3cd3dbaa16c",
   "metadata": {
    "tags": []
   },
   "outputs": [
    {
     "data": {
      "text/plain": [
       "(3, 3)"
      ]
     },
     "execution_count": 28,
     "metadata": {},
     "output_type": "execute_result"
    }
   ],
   "source": [
    "a.shape"
   ]
  },
  {
   "cell_type": "code",
   "execution_count": 29,
   "id": "007401ef-7939-49a8-870e-3f39792e9427",
   "metadata": {
    "tags": []
   },
   "outputs": [
    {
     "data": {
      "text/plain": [
       "9"
      ]
     },
     "execution_count": 29,
     "metadata": {},
     "output_type": "execute_result"
    }
   ],
   "source": [
    "a.size"
   ]
  },
  {
   "cell_type": "code",
   "execution_count": 31,
   "id": "eadbcb24-8002-4495-bfe7-3266a37966e7",
   "metadata": {
    "tags": []
   },
   "outputs": [
    {
     "data": {
      "text/plain": [
       "dtype('int64')"
      ]
     },
     "execution_count": 31,
     "metadata": {},
     "output_type": "execute_result"
    }
   ],
   "source": [
    "a.dtype"
   ]
  },
  {
   "cell_type": "markdown",
   "id": "1a4aaa00-753f-4a64-8e18-2099b3c0d1f5",
   "metadata": {},
   "source": [
    "## Yeniden Şekillendirme"
   ]
  },
  {
   "cell_type": "code",
   "execution_count": 32,
   "id": "9a76874e-9f3b-4469-8beb-a8ad767da32e",
   "metadata": {
    "tags": []
   },
   "outputs": [],
   "source": [
    "import numpy as np"
   ]
  },
  {
   "cell_type": "code",
   "execution_count": 37,
   "id": "940547d3-f135-4e9f-a623-4c12ce7e51c7",
   "metadata": {
    "tags": []
   },
   "outputs": [],
   "source": [
    "a = np.arange(1,10)"
   ]
  },
  {
   "cell_type": "code",
   "execution_count": 38,
   "id": "c5d4ed77-4354-4c3c-9926-e2136b6c4003",
   "metadata": {
    "tags": []
   },
   "outputs": [
    {
     "data": {
      "text/plain": [
       "1"
      ]
     },
     "execution_count": 38,
     "metadata": {},
     "output_type": "execute_result"
    }
   ],
   "source": [
    "a.ndim"
   ]
  },
  {
   "cell_type": "code",
   "execution_count": 41,
   "id": "5c8bc89f-0d2e-479e-b106-a6aca8af05bd",
   "metadata": {
    "tags": []
   },
   "outputs": [],
   "source": [
    "b = a.reshape((3,3))  #bu şekilde matris haline çevirdik"
   ]
  },
  {
   "cell_type": "code",
   "execution_count": 42,
   "id": "fdfd6e21-e6b1-4d83-a11d-ba2d060bac4f",
   "metadata": {
    "tags": []
   },
   "outputs": [
    {
     "data": {
      "text/plain": [
       "2"
      ]
     },
     "execution_count": 42,
     "metadata": {},
     "output_type": "execute_result"
    }
   ],
   "source": [
    "b.ndim"
   ]
  },
  {
   "cell_type": "code",
   "execution_count": null,
   "id": "3a6274fa-7313-4ab8-acc6-e5b362b2685c",
   "metadata": {},
   "outputs": [],
   "source": []
  },
  {
   "cell_type": "markdown",
   "id": "f0b7eb72-0256-44af-852c-b6f24ec0d398",
   "metadata": {},
   "source": [
    "# Array Birleştirme(Concatenation)"
   ]
  },
  {
   "cell_type": "code",
   "execution_count": 43,
   "id": "8479c715-cca8-4ce9-bc57-cb554570ebbd",
   "metadata": {
    "tags": []
   },
   "outputs": [],
   "source": [
    "import numpy as np"
   ]
  },
  {
   "cell_type": "code",
   "execution_count": 46,
   "id": "d14f92e6-89a0-4cd4-8b8e-9bd71c0ff274",
   "metadata": {
    "tags": []
   },
   "outputs": [],
   "source": [
    "x = np.array([1,2,3])\n",
    "y = np.array([4,5,6])\n",
    "z = np.array([7,8,9])"
   ]
  },
  {
   "cell_type": "code",
   "execution_count": 45,
   "id": "757ddbe1-1d93-440a-a5a6-e2ee556c6422",
   "metadata": {
    "tags": []
   },
   "outputs": [
    {
     "data": {
      "text/plain": [
       "array([1, 2, 3, 4, 5, 6])"
      ]
     },
     "execution_count": 45,
     "metadata": {},
     "output_type": "execute_result"
    }
   ],
   "source": [
    "np.concatenate([x,y])"
   ]
  },
  {
   "cell_type": "code",
   "execution_count": 47,
   "id": "8354c532-5284-459c-888d-54438331800d",
   "metadata": {
    "tags": []
   },
   "outputs": [
    {
     "data": {
      "text/plain": [
       "array([1, 2, 3, 4, 5, 6, 7, 8, 9])"
      ]
     },
     "execution_count": 47,
     "metadata": {},
     "output_type": "execute_result"
    }
   ],
   "source": [
    "np.concatenate([x,y,z])"
   ]
  },
  {
   "cell_type": "code",
   "execution_count": 48,
   "id": "7102564d-f0eb-4089-b492-42e8913eb245",
   "metadata": {
    "tags": []
   },
   "outputs": [],
   "source": [
    "a = np.random.randint(0,10 , (2,2))"
   ]
  },
  {
   "cell_type": "code",
   "execution_count": 53,
   "id": "20febdce-db58-4aae-8d69-a1dc74dd13a7",
   "metadata": {
    "tags": []
   },
   "outputs": [
    {
     "data": {
      "text/plain": [
       "array([[2, 7],\n",
       "       [5, 4],\n",
       "       [2, 7],\n",
       "       [5, 4]])"
      ]
     },
     "execution_count": 53,
     "metadata": {},
     "output_type": "execute_result"
    }
   ],
   "source": [
    "np.concatenate([a,a]) \n",
    "#otomatik olarak axis = 0 olarak gelir ve alt alta ekleme yapar."
   ]
  },
  {
   "cell_type": "code",
   "execution_count": 56,
   "id": "e8242ac0-83ae-4c59-bff4-a599d565f8a2",
   "metadata": {
    "tags": []
   },
   "outputs": [
    {
     "data": {
      "text/plain": [
       "array([[2, 7, 2, 7],\n",
       "       [5, 4, 5, 4]])"
      ]
     },
     "execution_count": 56,
     "metadata": {},
     "output_type": "execute_result"
    }
   ],
   "source": [
    "np.concatenate([a,a], axis = 1 ) \n",
    "#eğer axis = 1 dersek yan yana ekleme yapabilir."
   ]
  },
  {
   "cell_type": "code",
   "execution_count": null,
   "id": "90790e4d-c386-4bce-8475-266b2df2d179",
   "metadata": {},
   "outputs": [],
   "source": []
  },
  {
   "cell_type": "markdown",
   "id": "6d31cfea-662d-42cf-9291-30134b99e0b0",
   "metadata": {
    "tags": []
   },
   "source": [
    "# Array Ayırma (Splitting)"
   ]
  },
  {
   "cell_type": "code",
   "execution_count": 58,
   "id": "f90554d5-68a3-454a-a647-93a3dc8e4d92",
   "metadata": {
    "tags": []
   },
   "outputs": [],
   "source": [
    "import numpy as np"
   ]
  },
  {
   "cell_type": "code",
   "execution_count": 59,
   "id": "bf9c0707-59cd-47b6-beb7-122b9f8a4039",
   "metadata": {
    "tags": []
   },
   "outputs": [],
   "source": [
    "x = np.array([1,2,3,4,5,6,78,9,7])"
   ]
  },
  {
   "cell_type": "code",
   "execution_count": 67,
   "id": "7735f68f-2c38-4ea5-99bd-2f6c5debfee7",
   "metadata": {
    "tags": []
   },
   "outputs": [
    {
     "data": {
      "text/plain": [
       "[array([1, 2, 3]), array([4]), array([ 5,  6, 78,  9,  7])]"
      ]
     },
     "execution_count": 67,
     "metadata": {},
     "output_type": "execute_result"
    }
   ],
   "source": [
    "np.split(x , [3,4])    \n",
    "#0.indexten 3 e kadar 1. array\n",
    "#3.indexten 4.indexe kadar 2. array\n",
    "#geriye kalan son array olarak ayrılır."
   ]
  },
  {
   "cell_type": "code",
   "execution_count": 68,
   "id": "1bcdc7b6-3edc-4374-933d-1c8d6e8752a0",
   "metadata": {
    "tags": []
   },
   "outputs": [],
   "source": [
    "a,b,c = np.split(x,[3,4])  #a,b,c değerlerine bu şekilde arrayleri atıyor."
   ]
  },
  {
   "cell_type": "code",
   "execution_count": 63,
   "id": "6121c446-0574-4b34-8090-285cd524f49b",
   "metadata": {
    "tags": []
   },
   "outputs": [
    {
     "data": {
      "text/plain": [
       "array([1, 2, 3])"
      ]
     },
     "execution_count": 63,
     "metadata": {},
     "output_type": "execute_result"
    }
   ],
   "source": [
    "a"
   ]
  },
  {
   "cell_type": "code",
   "execution_count": 64,
   "id": "71b7f8af-e556-4e31-a758-8970e730c4d5",
   "metadata": {
    "tags": []
   },
   "outputs": [
    {
     "data": {
      "text/plain": [
       "array([4])"
      ]
     },
     "execution_count": 64,
     "metadata": {},
     "output_type": "execute_result"
    }
   ],
   "source": [
    "b"
   ]
  },
  {
   "cell_type": "code",
   "execution_count": 65,
   "id": "6b2c8796-7dc7-4dd4-a79b-c8620102ff34",
   "metadata": {
    "tags": []
   },
   "outputs": [
    {
     "data": {
      "text/plain": [
       "array([ 5,  6, 78,  9,  7])"
      ]
     },
     "execution_count": 65,
     "metadata": {},
     "output_type": "execute_result"
    }
   ],
   "source": [
    "c"
   ]
  },
  {
   "cell_type": "code",
   "execution_count": 69,
   "id": "075dd3aa-7380-4029-841c-2709bfa7b396",
   "metadata": {
    "tags": []
   },
   "outputs": [],
   "source": [
    "#İKİ BOYUTLU AYIRMA"
   ]
  },
  {
   "cell_type": "code",
   "execution_count": 70,
   "id": "48d096bb-5c02-47a9-ab26-e479925936a7",
   "metadata": {
    "tags": []
   },
   "outputs": [],
   "source": [
    "m = np.arange(16).reshape([4,4])"
   ]
  },
  {
   "cell_type": "code",
   "execution_count": 71,
   "id": "467df95b-f7f5-44cf-8eed-a9f20b2cbbcb",
   "metadata": {
    "tags": []
   },
   "outputs": [
    {
     "data": {
      "text/plain": [
       "[array([[0, 1, 2, 3],\n",
       "        [4, 5, 6, 7]]),\n",
       " array([[ 8,  9, 10, 11],\n",
       "        [12, 13, 14, 15]])]"
      ]
     },
     "execution_count": 71,
     "metadata": {},
     "output_type": "execute_result"
    }
   ],
   "source": [
    "np.vsplit(m,[2])"
   ]
  },
  {
   "cell_type": "code",
   "execution_count": 72,
   "id": "062857cb-0431-44eb-9c22-88129282e7d7",
   "metadata": {
    "tags": []
   },
   "outputs": [],
   "source": [
    "üst,alt = np.vsplit(m,[2])"
   ]
  },
  {
   "cell_type": "code",
   "execution_count": 73,
   "id": "2fdad5ff-8b0f-446b-8de0-32aeca150e06",
   "metadata": {
    "tags": []
   },
   "outputs": [
    {
     "data": {
      "text/plain": [
       "array([[0, 1, 2, 3],\n",
       "       [4, 5, 6, 7]])"
      ]
     },
     "execution_count": 73,
     "metadata": {},
     "output_type": "execute_result"
    }
   ],
   "source": [
    "üst "
   ]
  },
  {
   "cell_type": "code",
   "execution_count": 74,
   "id": "dd423d1b-3b1e-4db0-8283-0bc24030505b",
   "metadata": {
    "tags": []
   },
   "outputs": [
    {
     "data": {
      "text/plain": [
       "array([[ 8,  9, 10, 11],\n",
       "       [12, 13, 14, 15]])"
      ]
     },
     "execution_count": 74,
     "metadata": {},
     "output_type": "execute_result"
    }
   ],
   "source": [
    "alt"
   ]
  },
  {
   "cell_type": "code",
   "execution_count": 75,
   "id": "dc4b9f5c-7469-4cac-a2b2-e1b9de6b5277",
   "metadata": {
    "tags": []
   },
   "outputs": [
    {
     "data": {
      "text/plain": [
       "array([[ 0,  1,  2,  3],\n",
       "       [ 4,  5,  6,  7],\n",
       "       [ 8,  9, 10, 11],\n",
       "       [12, 13, 14, 15]])"
      ]
     },
     "execution_count": 75,
     "metadata": {},
     "output_type": "execute_result"
    }
   ],
   "source": [
    "m"
   ]
  },
  {
   "cell_type": "code",
   "execution_count": 76,
   "id": "0c722583-b9d5-4b99-bd0f-27b35331be65",
   "metadata": {
    "tags": []
   },
   "outputs": [],
   "source": [
    "sağ ,sol = np.hsplit(m,[2])"
   ]
  },
  {
   "cell_type": "code",
   "execution_count": 77,
   "id": "39219ef4-ba2c-4ee4-8d84-6b621ec5bf78",
   "metadata": {
    "tags": []
   },
   "outputs": [
    {
     "data": {
      "text/plain": [
       "array([[ 0,  1],\n",
       "       [ 4,  5],\n",
       "       [ 8,  9],\n",
       "       [12, 13]])"
      ]
     },
     "execution_count": 77,
     "metadata": {},
     "output_type": "execute_result"
    }
   ],
   "source": [
    "sağ"
   ]
  },
  {
   "cell_type": "code",
   "execution_count": 78,
   "id": "7c054a5f-b6bb-4bea-944d-3d5a78a9726c",
   "metadata": {
    "tags": []
   },
   "outputs": [
    {
     "data": {
      "text/plain": [
       "array([[ 2,  3],\n",
       "       [ 6,  7],\n",
       "       [10, 11],\n",
       "       [14, 15]])"
      ]
     },
     "execution_count": 78,
     "metadata": {},
     "output_type": "execute_result"
    }
   ],
   "source": [
    "sol"
   ]
  },
  {
   "cell_type": "code",
   "execution_count": null,
   "id": "7fb8800e-f08f-4380-993a-b947f805e974",
   "metadata": {},
   "outputs": [],
   "source": []
  },
  {
   "cell_type": "markdown",
   "id": "cce700f4-4e91-456a-b541-ec1c40f671c3",
   "metadata": {},
   "source": [
    "# Array Sıralama (Sorting)"
   ]
  },
  {
   "cell_type": "code",
   "execution_count": 79,
   "id": "aed516f3-769e-4dcb-b51c-30be96c4d326",
   "metadata": {
    "tags": []
   },
   "outputs": [],
   "source": [
    "import numpy as np"
   ]
  },
  {
   "cell_type": "code",
   "execution_count": 80,
   "id": "fb8f57aa-d3ab-45fe-bfc3-d0dc5ee8182a",
   "metadata": {
    "tags": []
   },
   "outputs": [],
   "source": [
    "v = np.array([61,4,24,21,56,91,23,7])"
   ]
  },
  {
   "cell_type": "code",
   "execution_count": 84,
   "id": "35be5114-c1aa-4ada-96ad-f63089af62de",
   "metadata": {
    "tags": []
   },
   "outputs": [
    {
     "data": {
      "text/plain": [
       "array([ 4,  7, 21, 23, 24, 56, 61, 91])"
      ]
     },
     "execution_count": 84,
     "metadata": {},
     "output_type": "execute_result"
    }
   ],
   "source": [
    "np.sort(v) #sadece bir kereye mahsus sıralar . yani ana arraye dokunmaz."
   ]
  },
  {
   "cell_type": "code",
   "execution_count": 83,
   "id": "65c0f4c1-f9d5-45c4-87d3-b2e21bde53c7",
   "metadata": {
    "tags": []
   },
   "outputs": [
    {
     "data": {
      "text/plain": [
       "array([61,  4, 24, 21, 56, 91, 23,  7])"
      ]
     },
     "execution_count": 83,
     "metadata": {},
     "output_type": "execute_result"
    }
   ],
   "source": [
    "v"
   ]
  },
  {
   "cell_type": "code",
   "execution_count": 85,
   "id": "bffe9ac4-2cb3-43c4-8f78-c4b30a852dc0",
   "metadata": {
    "tags": []
   },
   "outputs": [],
   "source": [
    "v.sort() #ancak burada arrayi direkt sıralar. Nesneye yönelik programlama."
   ]
  },
  {
   "cell_type": "code",
   "execution_count": 86,
   "id": "f233353b-7304-499c-bb80-c792eb27e48f",
   "metadata": {
    "tags": []
   },
   "outputs": [
    {
     "data": {
      "text/plain": [
       "array([ 4,  7, 21, 23, 24, 56, 61, 91])"
      ]
     },
     "execution_count": 86,
     "metadata": {},
     "output_type": "execute_result"
    }
   ],
   "source": [
    "v"
   ]
  },
  {
   "cell_type": "code",
   "execution_count": 87,
   "id": "504d10ef-8e03-4b96-9ed7-81ba4e5c9854",
   "metadata": {
    "tags": []
   },
   "outputs": [],
   "source": [
    "#iki boyutlu sıralama"
   ]
  },
  {
   "cell_type": "code",
   "execution_count": 88,
   "id": "d175587f-0400-476a-9f34-982b74aa1f07",
   "metadata": {
    "tags": []
   },
   "outputs": [
    {
     "data": {
      "text/plain": [
       "array([[93, 74, 60],\n",
       "       [88, 12, 85],\n",
       "       [47, 33, 56]])"
      ]
     },
     "execution_count": 88,
     "metadata": {},
     "output_type": "execute_result"
    }
   ],
   "source": [
    "m = np.random.randint(0,100,[3,3])\n",
    "m"
   ]
  },
  {
   "cell_type": "code",
   "execution_count": 92,
   "id": "fefdf683-0f42-4ba3-95c5-a43b8e62e255",
   "metadata": {
    "tags": []
   },
   "outputs": [
    {
     "data": {
      "text/plain": [
       "array([[60, 74, 93],\n",
       "       [12, 85, 88],\n",
       "       [33, 47, 56]])"
      ]
     },
     "execution_count": 92,
     "metadata": {},
     "output_type": "execute_result"
    }
   ],
   "source": [
    "np.sort(m , axis = 1) #satırlara göre sıralama işlemi yapar."
   ]
  },
  {
   "cell_type": "code",
   "execution_count": 94,
   "id": "6df98d9c-c01b-4fc0-a4cc-0e66a40fb641",
   "metadata": {
    "tags": []
   },
   "outputs": [
    {
     "data": {
      "text/plain": [
       "array([[47, 12, 56],\n",
       "       [88, 33, 60],\n",
       "       [93, 74, 85]])"
      ]
     },
     "execution_count": 94,
     "metadata": {},
     "output_type": "execute_result"
    }
   ],
   "source": [
    "np.sort(m,axis = 0) #sütunlara göre sıralama yapar."
   ]
  },
  {
   "cell_type": "code",
   "execution_count": null,
   "id": "f78a903a-cdd6-4058-ac3c-0948c7f63b1c",
   "metadata": {},
   "outputs": [],
   "source": []
  },
  {
   "cell_type": "markdown",
   "id": "876179ba-7cba-4791-9734-2b8818071855",
   "metadata": {},
   "source": [
    "# Slicing ile Elemanlara erişmek(alt kümeye erişmek)"
   ]
  },
  {
   "cell_type": "code",
   "execution_count": 95,
   "id": "b960ee14-3e08-4be8-aa03-abeea279d57a",
   "metadata": {
    "tags": []
   },
   "outputs": [],
   "source": [
    "import numpy as np"
   ]
  },
  {
   "cell_type": "code",
   "execution_count": 96,
   "id": "cf3b8fdc-62e4-4024-b01b-509888adb26a",
   "metadata": {
    "tags": []
   },
   "outputs": [
    {
     "data": {
      "text/plain": [
       "array([10, 11, 12, 13, 14, 15, 16, 17, 18, 19])"
      ]
     },
     "execution_count": 96,
     "metadata": {},
     "output_type": "execute_result"
    }
   ],
   "source": [
    "a = np.arange(10,20)\n",
    "a"
   ]
  },
  {
   "cell_type": "code",
   "execution_count": 97,
   "id": "ccd3c508-17b2-4285-9876-4d379e27421e",
   "metadata": {
    "tags": []
   },
   "outputs": [
    {
     "data": {
      "text/plain": [
       "array([10, 11, 12])"
      ]
     },
     "execution_count": 97,
     "metadata": {},
     "output_type": "execute_result"
    }
   ],
   "source": [
    "a[0:3]"
   ]
  },
  {
   "cell_type": "code",
   "execution_count": 99,
   "id": "b01c4397-56ea-4a8c-bfef-5b1b44753e4a",
   "metadata": {
    "tags": []
   },
   "outputs": [
    {
     "data": {
      "text/plain": [
       "array([10, 11, 12])"
      ]
     },
     "execution_count": 99,
     "metadata": {},
     "output_type": "execute_result"
    }
   ],
   "source": [
    "a[:3]"
   ]
  },
  {
   "cell_type": "code",
   "execution_count": 100,
   "id": "3b6b0616-80bb-471f-841c-244d5c1fdfac",
   "metadata": {
    "tags": []
   },
   "outputs": [
    {
     "data": {
      "text/plain": [
       "19"
      ]
     },
     "execution_count": 100,
     "metadata": {},
     "output_type": "execute_result"
    }
   ],
   "source": [
    "a[-1]"
   ]
  },
  {
   "cell_type": "code",
   "execution_count": 101,
   "id": "4a4e3058-43b5-43d2-8c0f-e8820348f139",
   "metadata": {
    "tags": []
   },
   "outputs": [
    {
     "data": {
      "text/plain": [
       "array([13, 14, 15, 16, 17, 18, 19])"
      ]
     },
     "execution_count": 101,
     "metadata": {},
     "output_type": "execute_result"
    }
   ],
   "source": [
    "a[3:]"
   ]
  },
  {
   "cell_type": "code",
   "execution_count": 102,
   "id": "35d6f925-e595-49d9-acaa-1054d35b0a5c",
   "metadata": {
    "tags": []
   },
   "outputs": [
    {
     "data": {
      "text/plain": [
       "array([11, 15, 19])"
      ]
     },
     "execution_count": 102,
     "metadata": {},
     "output_type": "execute_result"
    }
   ],
   "source": [
    "a[1::4]"
   ]
  },
  {
   "cell_type": "code",
   "execution_count": 103,
   "id": "702dbe15-6f10-4f8b-9606-e27c327809e1",
   "metadata": {
    "tags": []
   },
   "outputs": [],
   "source": [
    "#iki boyutlu slice işlemleri"
   ]
  },
  {
   "cell_type": "code",
   "execution_count": 104,
   "id": "60f5012d-30c6-4c24-a2e0-6de58944f8ef",
   "metadata": {
    "tags": []
   },
   "outputs": [],
   "source": [
    "m = np.random.randint(0,25,(5,5))"
   ]
  },
  {
   "cell_type": "code",
   "execution_count": 105,
   "id": "bd0a224f-396a-4c3c-befb-4d20855ad63d",
   "metadata": {
    "tags": []
   },
   "outputs": [
    {
     "data": {
      "text/plain": [
       "array([[12, 16, 19,  8,  7],\n",
       "       [19,  2, 18,  8, 19],\n",
       "       [13, 21, 16, 18,  0],\n",
       "       [16, 14, 24,  2,  1],\n",
       "       [24, 18, 12, 15, 14]])"
      ]
     },
     "execution_count": 105,
     "metadata": {},
     "output_type": "execute_result"
    }
   ],
   "source": [
    "m"
   ]
  },
  {
   "cell_type": "code",
   "execution_count": 108,
   "id": "e2fc4316-0247-46b1-a951-9f438b3ec454",
   "metadata": {
    "tags": []
   },
   "outputs": [
    {
     "data": {
      "text/plain": [
       "array([16,  2, 21, 14, 18])"
      ]
     },
     "execution_count": 108,
     "metadata": {},
     "output_type": "execute_result"
    }
   ],
   "source": [
    "m[:,1]    #1.sütunu aldı."
   ]
  },
  {
   "cell_type": "code",
   "execution_count": 110,
   "id": "dab58381-1a9d-471d-bacb-e2c6ced4d61f",
   "metadata": {
    "tags": []
   },
   "outputs": [
    {
     "data": {
      "text/plain": [
       "array([12, 16, 19,  8,  7])"
      ]
     },
     "execution_count": 110,
     "metadata": {},
     "output_type": "execute_result"
    }
   ],
   "source": [
    "m[0,:] #0. satırı aldı."
   ]
  },
  {
   "cell_type": "code",
   "execution_count": 113,
   "id": "d443f070-303b-4c43-b3a2-9735a1f2c17f",
   "metadata": {
    "tags": []
   },
   "outputs": [
    {
     "data": {
      "text/plain": [
       "array([18,  8, 19])"
      ]
     },
     "execution_count": 113,
     "metadata": {},
     "output_type": "execute_result"
    }
   ],
   "source": [
    "m[1,2:] #1.satırda 2.sütundan sona kadar alır."
   ]
  },
  {
   "cell_type": "code",
   "execution_count": 118,
   "id": "f742eaaa-b14f-4bf8-b212-538846cf0741",
   "metadata": {
    "tags": []
   },
   "outputs": [
    {
     "data": {
      "text/plain": [
       "array([[12, 16],\n",
       "       [19,  2]])"
      ]
     },
     "execution_count": 118,
     "metadata": {},
     "output_type": "execute_result"
    }
   ],
   "source": [
    "m[0:2 , 0:2]"
   ]
  },
  {
   "cell_type": "code",
   "execution_count": null,
   "id": "61e2c37b-ab0a-41a6-b848-cf8f7685b5f2",
   "metadata": {},
   "outputs": [],
   "source": []
  },
  {
   "cell_type": "markdown",
   "id": "dea228dc-7aae-40c0-83df-1bc1f88a9602",
   "metadata": {},
   "source": [
    "# Alt Küme Üzerinde İşlem Yapmak"
   ]
  },
  {
   "cell_type": "code",
   "execution_count": 119,
   "id": "f2eac39f-ebc6-43d7-9ab3-c590171831e7",
   "metadata": {
    "tags": []
   },
   "outputs": [],
   "source": [
    "import numpy as np"
   ]
  },
  {
   "cell_type": "code",
   "execution_count": 120,
   "id": "db3e6ee3-0985-4a33-9d9b-77b25a03e576",
   "metadata": {
    "tags": []
   },
   "outputs": [],
   "source": [
    "a = np.random.randint(0,25,(5,5))"
   ]
  },
  {
   "cell_type": "code",
   "execution_count": 121,
   "id": "db1ea5b1-2772-4880-bc0e-5d46ed9d0301",
   "metadata": {
    "tags": []
   },
   "outputs": [
    {
     "data": {
      "text/plain": [
       "array([[ 1,  0, 14, 19,  7],\n",
       "       [ 1, 22, 13,  8, 18],\n",
       "       [17, 17,  9, 22,  5],\n",
       "       [ 2,  0, 11,  7, 18],\n",
       "       [ 6, 10, 15, 16,  9]])"
      ]
     },
     "execution_count": 121,
     "metadata": {},
     "output_type": "execute_result"
    }
   ],
   "source": [
    "a"
   ]
  },
  {
   "cell_type": "code",
   "execution_count": 128,
   "id": "f6733269-4921-4a12-986f-8297d6989969",
   "metadata": {
    "tags": []
   },
   "outputs": [],
   "source": [
    "alt_a = a[1:4 , :2]"
   ]
  },
  {
   "cell_type": "code",
   "execution_count": 129,
   "id": "ffa2c3cf-743c-4bc7-be09-761405dccdb1",
   "metadata": {
    "tags": []
   },
   "outputs": [
    {
     "data": {
      "text/plain": [
       "array([[ 1, 22],\n",
       "       [17, 17],\n",
       "       [ 2,  0]])"
      ]
     },
     "execution_count": 129,
     "metadata": {},
     "output_type": "execute_result"
    }
   ],
   "source": [
    "alt_a"
   ]
  },
  {
   "cell_type": "code",
   "execution_count": 130,
   "id": "fc988ebf-7c6a-41ec-84c3-94faf515a5d9",
   "metadata": {
    "tags": []
   },
   "outputs": [],
   "source": [
    "alt_a[0,0] = 99999"
   ]
  },
  {
   "cell_type": "code",
   "execution_count": 139,
   "id": "58d12cb9-3cba-424e-a5c8-345d93123cbf",
   "metadata": {
    "tags": []
   },
   "outputs": [
    {
     "data": {
      "text/plain": [
       "array([[99999,    22],\n",
       "       [   17,    17],\n",
       "       [    2,     0]])"
      ]
     },
     "execution_count": 139,
     "metadata": {},
     "output_type": "execute_result"
    }
   ],
   "source": [
    "alt_a"
   ]
  },
  {
   "cell_type": "code",
   "execution_count": 140,
   "id": "716fc4fd-0de4-41ab-942c-06d2cd445228",
   "metadata": {
    "tags": []
   },
   "outputs": [
    {
     "data": {
      "text/plain": [
       "array([[    1,     0,    14,    19,     7],\n",
       "       [99999,    22,    13,     8,    18],\n",
       "       [   17,    17,     9,    22,     5],\n",
       "       [    2,     0,    11,     7,    18],\n",
       "       [    6,    10,    15,    16,     9]])"
      ]
     },
     "execution_count": 140,
     "metadata": {},
     "output_type": "execute_result"
    }
   ],
   "source": [
    "a \n",
    "#az önce yaptığımız değişiklik genel arrayde de değiştirildi."
   ]
  },
  {
   "cell_type": "markdown",
   "id": "2720f337-ef8f-4077-b8cf-eed09f441180",
   "metadata": {},
   "source": [
    "ancak aşağıdaki gibi yaparsak ana array değişmez;"
   ]
  },
  {
   "cell_type": "code",
   "execution_count": 134,
   "id": "17e439a4-a830-49c0-ad7c-7ae87542018f",
   "metadata": {
    "tags": []
   },
   "outputs": [
    {
     "data": {
      "text/plain": [
       "array([[99999,    22],\n",
       "       [   17,    17],\n",
       "       [    2,     0]])"
      ]
     },
     "execution_count": 134,
     "metadata": {},
     "output_type": "execute_result"
    }
   ],
   "source": [
    "alt_b = a[1:4, :2].copy()\n",
    "alt_b"
   ]
  },
  {
   "cell_type": "code",
   "execution_count": 135,
   "id": "754a4b1e-2d49-48a1-954a-c645d60b191d",
   "metadata": {
    "tags": []
   },
   "outputs": [],
   "source": [
    "alt_b[0,1] = 999999"
   ]
  },
  {
   "cell_type": "code",
   "execution_count": 136,
   "id": "74107684-6f0c-4322-aeba-c365af9faa7d",
   "metadata": {
    "tags": []
   },
   "outputs": [
    {
     "data": {
      "text/plain": [
       "array([[ 99999, 999999],\n",
       "       [    17,     17],\n",
       "       [     2,      0]])"
      ]
     },
     "execution_count": 136,
     "metadata": {},
     "output_type": "execute_result"
    }
   ],
   "source": [
    "alt_b"
   ]
  },
  {
   "cell_type": "code",
   "execution_count": 138,
   "id": "2fc94074-42fb-4e43-9f85-5dfb4b163399",
   "metadata": {
    "tags": []
   },
   "outputs": [
    {
     "data": {
      "text/plain": [
       "array([[    1,     0,    14,    19,     7],\n",
       "       [99999,    22,    13,     8,    18],\n",
       "       [   17,    17,     9,    22,     5],\n",
       "       [    2,     0,    11,     7,    18],\n",
       "       [    6,    10,    15,    16,     9]])"
      ]
     },
     "execution_count": 138,
     "metadata": {},
     "output_type": "execute_result"
    }
   ],
   "source": [
    "a   #copy() fonksiyonu ile main array değişmez"
   ]
  },
  {
   "cell_type": "code",
   "execution_count": null,
   "id": "d633b330-cb1a-4540-ba2e-bba665ffcc75",
   "metadata": {},
   "outputs": [],
   "source": []
  },
  {
   "cell_type": "markdown",
   "id": "5deab05f-c253-4978-93b4-78bc54f74ece",
   "metadata": {},
   "source": [
    "# Fancy Index İle Elemanlara Erişmek"
   ]
  },
  {
   "cell_type": "code",
   "execution_count": 141,
   "id": "ea17fe20-3b94-4b19-a680-7a2e89d091f6",
   "metadata": {
    "tags": []
   },
   "outputs": [],
   "source": [
    "import numpy as np"
   ]
  },
  {
   "cell_type": "code",
   "execution_count": 142,
   "id": "ae83468c-7972-426c-84c4-0bb688171c04",
   "metadata": {
    "tags": []
   },
   "outputs": [
    {
     "data": {
      "text/plain": [
       "array([ 0,  3,  6,  9, 12, 15, 18, 21, 24, 27])"
      ]
     },
     "execution_count": 142,
     "metadata": {},
     "output_type": "execute_result"
    }
   ],
   "source": [
    "v = np.arange(0,30,3)\n",
    "v"
   ]
  },
  {
   "cell_type": "code",
   "execution_count": 143,
   "id": "cb513d22-515b-41bb-830e-1a64c449b236",
   "metadata": {
    "tags": []
   },
   "outputs": [
    {
     "data": {
      "text/plain": [
       "3"
      ]
     },
     "execution_count": 143,
     "metadata": {},
     "output_type": "execute_result"
    }
   ],
   "source": [
    "v[1]"
   ]
  },
  {
   "cell_type": "code",
   "execution_count": 144,
   "id": "b0cc3a80-a8a2-4b92-b941-f2351a1f7297",
   "metadata": {
    "tags": []
   },
   "outputs": [
    {
     "data": {
      "text/plain": [
       "9"
      ]
     },
     "execution_count": 144,
     "metadata": {},
     "output_type": "execute_result"
    }
   ],
   "source": [
    "v[3]"
   ]
  },
  {
   "cell_type": "code",
   "execution_count": 145,
   "id": "9704414f-018a-4b26-99bb-7eb97125c315",
   "metadata": {
    "tags": []
   },
   "outputs": [
    {
     "data": {
      "text/plain": [
       "15"
      ]
     },
     "execution_count": 145,
     "metadata": {},
     "output_type": "execute_result"
    }
   ],
   "source": [
    "v[5]"
   ]
  },
  {
   "cell_type": "code",
   "execution_count": 147,
   "id": "ee8acb1b-7844-43ad-ac3e-013170060cd2",
   "metadata": {
    "tags": []
   },
   "outputs": [
    {
     "data": {
      "text/plain": [
       "[3, 9, 15]"
      ]
     },
     "execution_count": 147,
     "metadata": {},
     "output_type": "execute_result"
    }
   ],
   "source": [
    "[v[1],v[3],v[5]]  #bu şekilde erişim de yaparız.\n"
   ]
  },
  {
   "cell_type": "code",
   "execution_count": null,
   "id": "8585f9f4-9614-45bb-ba46-a6b635de0d30",
   "metadata": {},
   "outputs": [],
   "source": []
  },
  {
   "cell_type": "code",
   "execution_count": 150,
   "id": "c61a7bb3-c388-44c9-82ec-1a288573cb62",
   "metadata": {
    "tags": []
   },
   "outputs": [],
   "source": [
    "al_getir = [1,3,5] \n",
    "# fancy index ile elemanlara erişme işlemi burada devreye giriyor"
   ]
  },
  {
   "cell_type": "code",
   "execution_count": 152,
   "id": "5d16b25b-4371-4c07-acb5-dd36559b460a",
   "metadata": {
    "tags": []
   },
   "outputs": [
    {
     "data": {
      "text/plain": [
       "array([ 3,  9, 15])"
      ]
     },
     "execution_count": 152,
     "metadata": {},
     "output_type": "execute_result"
    }
   ],
   "source": [
    "v[al_getir]  #bu şekilde de erişim yapıyoruz. Bu büyük arraylerde işimize yarar."
   ]
  },
  {
   "cell_type": "code",
   "execution_count": null,
   "id": "de7d76af-4c71-4a11-ab40-90157cc80d76",
   "metadata": {},
   "outputs": [],
   "source": []
  },
  {
   "cell_type": "code",
   "execution_count": null,
   "id": "c6c47a4b-15d5-4fcf-9825-31945c1797e1",
   "metadata": {},
   "outputs": [],
   "source": []
  },
  {
   "cell_type": "code",
   "execution_count": 153,
   "id": "1b03e42a-bc51-4da4-b21d-6dd76d11dc7f",
   "metadata": {
    "tags": []
   },
   "outputs": [],
   "source": [
    "#İKİ BOYUTTA FANCY"
   ]
  },
  {
   "cell_type": "code",
   "execution_count": 154,
   "id": "3d159fe2-df6e-4b9c-9773-b9940df0f589",
   "metadata": {
    "tags": []
   },
   "outputs": [],
   "source": [
    "m = np.arange(9).reshape((3,3))"
   ]
  },
  {
   "cell_type": "code",
   "execution_count": 155,
   "id": "1e8653d6-6e82-441a-86e0-965000b411d0",
   "metadata": {
    "tags": []
   },
   "outputs": [
    {
     "data": {
      "text/plain": [
       "array([[0, 1, 2],\n",
       "       [3, 4, 5],\n",
       "       [6, 7, 8]])"
      ]
     },
     "execution_count": 155,
     "metadata": {},
     "output_type": "execute_result"
    }
   ],
   "source": [
    "m"
   ]
  },
  {
   "cell_type": "code",
   "execution_count": 157,
   "id": "4045d175-8ba2-4721-b684-af5143d42828",
   "metadata": {
    "tags": []
   },
   "outputs": [],
   "source": [
    "satir = np.array([0,1])\n",
    "sutun = np.array([1,2])"
   ]
  },
  {
   "cell_type": "code",
   "execution_count": 159,
   "id": "55e7ddb7-7c23-488c-b245-7b76bf35e4ba",
   "metadata": {
    "tags": []
   },
   "outputs": [
    {
     "ename": "NameError",
     "evalue": "name 'sutun' is not defined",
     "output_type": "error",
     "traceback": [
      "\u001b[0;31m---------------------------------------------------------------------------\u001b[0m",
      "\u001b[0;31mNameError\u001b[0m                                 Traceback (most recent call last)",
      "Cell \u001b[0;32mIn[159], line 1\u001b[0m\n\u001b[0;32m----> 1\u001b[0m m[satir,sutun]\n",
      "\u001b[0;31mNameError\u001b[0m: name 'sutun' is not defined"
     ]
    }
   ],
   "source": [
    "m[satir,sutun]"
   ]
  },
  {
   "cell_type": "code",
   "execution_count": null,
   "id": "d7a30a9b-d673-44fb-a946-620033177855",
   "metadata": {},
   "outputs": [],
   "source": []
  },
  {
   "cell_type": "code",
   "execution_count": null,
   "id": "0dddb9e9-688b-4342-8a88-3868c105ab4c",
   "metadata": {},
   "outputs": [],
   "source": []
  },
  {
   "cell_type": "code",
   "execution_count": null,
   "id": "c17fc963-85dd-4694-b2c9-f1e098561fff",
   "metadata": {},
   "outputs": [],
   "source": []
  },
  {
   "cell_type": "code",
   "execution_count": null,
   "id": "14264f9b-bc5d-467c-975d-a315d9cc99e9",
   "metadata": {},
   "outputs": [],
   "source": []
  },
  {
   "cell_type": "code",
   "execution_count": null,
   "id": "630f620c-2442-4b2b-8cd0-4e3b8de9151c",
   "metadata": {},
   "outputs": [],
   "source": []
  },
  {
   "cell_type": "code",
   "execution_count": null,
   "id": "d9dbc329-b9da-47cf-b3a9-0c2dfeb1a3ec",
   "metadata": {},
   "outputs": [],
   "source": []
  },
  {
   "cell_type": "code",
   "execution_count": null,
   "id": "04b57c94-ef8b-4eb9-a452-98eeadf9c1f0",
   "metadata": {},
   "outputs": [],
   "source": []
  },
  {
   "cell_type": "code",
   "execution_count": null,
   "id": "fcadf23a-ce14-4458-9f36-884c5377c7f8",
   "metadata": {},
   "outputs": [],
   "source": []
  },
  {
   "cell_type": "code",
   "execution_count": null,
   "id": "c3c5674c-12cb-49df-a33f-859cc50f9ebc",
   "metadata": {},
   "outputs": [],
   "source": []
  },
  {
   "cell_type": "code",
   "execution_count": null,
   "id": "fada8105-f22a-429b-8f53-37b829076591",
   "metadata": {},
   "outputs": [],
   "source": []
  },
  {
   "cell_type": "code",
   "execution_count": null,
   "id": "ac5147c3-1e55-41d5-9f76-1ffa0bfd0a6b",
   "metadata": {},
   "outputs": [],
   "source": []
  },
  {
   "cell_type": "code",
   "execution_count": null,
   "id": "2479e194-23a6-4939-a923-5e98f28c53c7",
   "metadata": {},
   "outputs": [],
   "source": []
  }
 ],
 "metadata": {
  "kernelspec": {
   "display_name": "Python 3 (ipykernel)",
   "language": "python",
   "name": "python3"
  },
  "language_info": {
   "codemirror_mode": {
    "name": "ipython",
    "version": 3
   },
   "file_extension": ".py",
   "mimetype": "text/x-python",
   "name": "python",
   "nbconvert_exporter": "python",
   "pygments_lexer": "ipython3",
   "version": "3.11.5"
  }
 },
 "nbformat": 4,
 "nbformat_minor": 5
}
