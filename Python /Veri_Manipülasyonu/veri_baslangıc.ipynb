{
 "cells": [
  {
   "cell_type": "code",
   "execution_count": 2,
   "id": "fa6329fa-0605-43b9-bd8d-ffd56e74edd3",
   "metadata": {
    "tags": []
   },
   "outputs": [],
   "source": [
    "import numpy as np"
   ]
  },
  {
   "cell_type": "code",
   "execution_count": 3,
   "id": "27895d6d-fadf-429a-8b7b-a1b07f06b3f3",
   "metadata": {
    "tags": []
   },
   "outputs": [],
   "source": [
    "a = np.array([1,2,3,4])\n",
    "b = np.array([7,8,9,10])"
   ]
  },
  {
   "cell_type": "code",
   "execution_count": 4,
   "id": "18a3f006-7024-4251-aec4-a22ae71b5684",
   "metadata": {
    "tags": []
   },
   "outputs": [
    {
     "data": {
      "text/plain": [
       "array([ 7, 16, 27, 40])"
      ]
     },
     "execution_count": 4,
     "metadata": {},
     "output_type": "execute_result"
    }
   ],
   "source": [
    "a*b"
   ]
  },
  {
   "cell_type": "markdown",
   "id": "b956bbd6-e358-4f78-9ab2-ad850bbd23c2",
   "metadata": {},
   "source": [
    "Bu işlemde numpy kütüphanesi sayesinde daha iyi bellek yönetimi ile işlemi kolayca yaparız.Sabit bir type da eleman tutar. "
   ]
  },
  {
   "cell_type": "markdown",
   "id": "2797d0ba-925c-40ce-a9a7-e71b1f74aa79",
   "metadata": {
    "tags": []
   },
   "source": [
    "# Numpy array oluşturma"
   ]
  },
  {
   "cell_type": "code",
   "execution_count": 7,
   "id": "873504ef-7cc4-4220-89e3-234bfa4cd078",
   "metadata": {
    "tags": []
   },
   "outputs": [],
   "source": [
    "import numpy as np "
   ]
  },
  {
   "cell_type": "code",
   "execution_count": 8,
   "id": "f1db91ea-cef2-4a67-a056-379f476cdba7",
   "metadata": {},
   "outputs": [],
   "source": [
    "a = np.array([2.0 , 4, 5, 7.122414124])"
   ]
  },
  {
   "cell_type": "code",
   "execution_count": 9,
   "id": "2367b91e-c095-4e82-85ce-6dde62e6a064",
   "metadata": {
    "tags": []
   },
   "outputs": [
    {
     "data": {
      "text/plain": [
       "numpy.ndarray"
      ]
     },
     "execution_count": 9,
     "metadata": {},
     "output_type": "execute_result"
    }
   ],
   "source": [
    "type(a)"
   ]
  },
  {
   "cell_type": "code",
   "execution_count": 10,
   "id": "c293c427-2a4f-4799-9595-fb62dca4c8d9",
   "metadata": {
    "tags": []
   },
   "outputs": [
    {
     "data": {
      "text/plain": [
       "array([2.        , 4.        , 5.        , 7.12241412])"
      ]
     },
     "execution_count": 10,
     "metadata": {},
     "output_type": "execute_result"
    }
   ],
   "source": [
    "a"
   ]
  },
  {
   "cell_type": "markdown",
   "id": "fe107559-2352-4e9c-bb62-82531d43cc5f",
   "metadata": {},
   "source": [
    "tüm hepsini bir float gibi tanıdı yani elemanları tek tip olarak tutuyor."
   ]
  },
  {
   "cell_type": "code",
   "execution_count": null,
   "id": "a4736af1-81bc-4634-98b4-0d85662c39f8",
   "metadata": {},
   "outputs": [],
   "source": []
  },
  {
   "cell_type": "code",
   "execution_count": 11,
   "id": "21a51ef1-e21c-40a9-b71d-05f5fab6e512",
   "metadata": {
    "tags": []
   },
   "outputs": [],
   "source": [
    "#sıfırdan array oluşturma "
   ]
  },
  {
   "cell_type": "code",
   "execution_count": 13,
   "id": "406c6f3a-2136-43fa-b0ba-558d0dd52811",
   "metadata": {
    "tags": []
   },
   "outputs": [
    {
     "data": {
      "text/plain": [
       "array([0, 0, 0, 0, 0, 0, 0, 0, 0, 0, 0, 0, 0, 0, 0, 0, 0, 0, 0, 0])"
      ]
     },
     "execution_count": 13,
     "metadata": {},
     "output_type": "execute_result"
    }
   ],
   "source": [
    "np.zeros(20 , dtype = int)"
   ]
  },
  {
   "cell_type": "code",
   "execution_count": 14,
   "id": "58f183f8-af48-4dd9-8212-e226011ad1ab",
   "metadata": {
    "tags": []
   },
   "outputs": [
    {
     "data": {
      "text/plain": [
       "array([[1., 1., 1.],\n",
       "       [1., 1., 1.],\n",
       "       [1., 1., 1.]])"
      ]
     },
     "execution_count": 14,
     "metadata": {},
     "output_type": "execute_result"
    }
   ],
   "source": [
    "np.ones((3,3) , dtype = float ) "
   ]
  },
  {
   "cell_type": "code",
   "execution_count": 15,
   "id": "8846aa4e-c582-4879-b129-d71caf2bac94",
   "metadata": {
    "tags": []
   },
   "outputs": [
    {
     "data": {
      "text/plain": [
       "array([[4, 4],\n",
       "       [4, 4],\n",
       "       [4, 4]])"
      ]
     },
     "execution_count": 15,
     "metadata": {},
     "output_type": "execute_result"
    }
   ],
   "source": [
    "np.full((3,2),4)"
   ]
  },
  {
   "cell_type": "code",
   "execution_count": 16,
   "id": "dc8e2061-1bb6-4f5e-bc08-53f654afa790",
   "metadata": {
    "tags": []
   },
   "outputs": [
    {
     "data": {
      "text/plain": [
       "array([ 0,  5, 10, 15, 20, 25, 30])"
      ]
     },
     "execution_count": 16,
     "metadata": {},
     "output_type": "execute_result"
    }
   ],
   "source": [
    "np.arange(0,31,5)"
   ]
  },
  {
   "cell_type": "code",
   "execution_count": 17,
   "id": "3fbb08b1-77b5-4182-8dea-d0d730dee736",
   "metadata": {
    "tags": []
   },
   "outputs": [
    {
     "data": {
      "text/plain": [
       "array([0.        , 0.44444444, 0.88888889, 1.33333333, 1.77777778,\n",
       "       2.22222222, 2.66666667, 3.11111111, 3.55555556, 4.        ])"
      ]
     },
     "execution_count": 17,
     "metadata": {},
     "output_type": "execute_result"
    }
   ],
   "source": [
    "np.linspace(0,4,10)"
   ]
  },
  {
   "cell_type": "code",
   "execution_count": 20,
   "id": "c59088d1-dff7-43ab-8261-c2f7538603b7",
   "metadata": {
    "tags": []
   },
   "outputs": [
    {
     "data": {
      "text/plain": [
       "array([[ 9.05037848,  9.18277278, 13.67821249],\n",
       "       [ 8.42677811, 10.98612262, 10.88704672],\n",
       "       [14.86378871, 18.18320877, 16.34503613]])"
      ]
     },
     "execution_count": 20,
     "metadata": {},
     "output_type": "execute_result"
    }
   ],
   "source": [
    "np.random.normal(10,4,(3,3))"
   ]
  },
  {
   "cell_type": "code",
   "execution_count": 21,
   "id": "6467acbb-4b42-47ed-b2d0-e8d7c3b1eead",
   "metadata": {
    "tags": []
   },
   "outputs": [
    {
     "data": {
      "text/plain": [
       "array([[8, 5, 1, 7],\n",
       "       [0, 8, 3, 6],\n",
       "       [8, 9, 1, 2]])"
      ]
     },
     "execution_count": 21,
     "metadata": {},
     "output_type": "execute_result"
    }
   ],
   "source": [
    "np.random.randint(0,10,(3,4))"
   ]
  },
  {
   "cell_type": "code",
   "execution_count": null,
   "id": "f2317bd4-1a6a-417d-85fb-4a78137d76e4",
   "metadata": {},
   "outputs": [],
   "source": []
  }
 ],
 "metadata": {
  "kernelspec": {
   "display_name": "Python 3 (ipykernel)",
   "language": "python",
   "name": "python3"
  },
  "language_info": {
   "codemirror_mode": {
    "name": "ipython",
    "version": 3
   },
   "file_extension": ".py",
   "mimetype": "text/x-python",
   "name": "python",
   "nbconvert_exporter": "python",
   "pygments_lexer": "ipython3",
   "version": "3.11.5"
  }
 },
 "nbformat": 4,
 "nbformat_minor": 5
}
