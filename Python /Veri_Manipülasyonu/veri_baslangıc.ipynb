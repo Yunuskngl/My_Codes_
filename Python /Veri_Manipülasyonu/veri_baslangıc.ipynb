{
 "cells": [
  {
   "cell_type": "code",
   "execution_count": 2,
   "id": "fa6329fa-0605-43b9-bd8d-ffd56e74edd3",
   "metadata": {
    "tags": []
   },
   "outputs": [],
   "source": [
    "import numpy as np"
   ]
  },
  {
   "cell_type": "code",
   "execution_count": 3,
   "id": "27895d6d-fadf-429a-8b7b-a1b07f06b3f3",
   "metadata": {
    "tags": []
   },
   "outputs": [],
   "source": [
    "a = np.array([1,2,3,4])\n",
    "b = np.array([7,8,9,10])"
   ]
  },
  {
   "cell_type": "code",
   "execution_count": 4,
   "id": "18a3f006-7024-4251-aec4-a22ae71b5684",
   "metadata": {
    "tags": []
   },
   "outputs": [
    {
     "data": {
      "text/plain": [
       "array([ 7, 16, 27, 40])"
      ]
     },
     "execution_count": 4,
     "metadata": {},
     "output_type": "execute_result"
    }
   ],
   "source": [
    "a*b"
   ]
  },
  {
   "cell_type": "markdown",
   "id": "b956bbd6-e358-4f78-9ab2-ad850bbd23c2",
   "metadata": {},
   "source": [
    "Bu işlemde numpy kütüphanesi sayesinde daha iyi bellek yönetimi ile işlemi kolayca yaparız.Sabit bir type da eleman tutar. "
   ]
  },
  {
   "cell_type": "markdown",
   "id": "2797d0ba-925c-40ce-a9a7-e71b1f74aa79",
   "metadata": {
    "tags": []
   },
   "source": [
    "# Numpy array oluşturma"
   ]
  },
  {
   "cell_type": "code",
   "execution_count": 7,
   "id": "873504ef-7cc4-4220-89e3-234bfa4cd078",
   "metadata": {
    "tags": []
   },
   "outputs": [],
   "source": [
    "import numpy as np "
   ]
  },
  {
   "cell_type": "code",
   "execution_count": 8,
   "id": "f1db91ea-cef2-4a67-a056-379f476cdba7",
   "metadata": {},
   "outputs": [],
   "source": [
    "a = np.array([2.0 , 4, 5, 7.122414124])"
   ]
  },
  {
   "cell_type": "code",
   "execution_count": 9,
   "id": "2367b91e-c095-4e82-85ce-6dde62e6a064",
   "metadata": {
    "tags": []
   },
   "outputs": [
    {
     "data": {
      "text/plain": [
       "numpy.ndarray"
      ]
     },
     "execution_count": 9,
     "metadata": {},
     "output_type": "execute_result"
    }
   ],
   "source": [
    "type(a)"
   ]
  },
  {
   "cell_type": "code",
   "execution_count": 10,
   "id": "c293c427-2a4f-4799-9595-fb62dca4c8d9",
   "metadata": {
    "tags": []
   },
   "outputs": [
    {
     "data": {
      "text/plain": [
       "array([2.        , 4.        , 5.        , 7.12241412])"
      ]
     },
     "execution_count": 10,
     "metadata": {},
     "output_type": "execute_result"
    }
   ],
   "source": [
    "a"
   ]
  },
  {
   "cell_type": "markdown",
   "id": "fe107559-2352-4e9c-bb62-82531d43cc5f",
   "metadata": {},
   "source": [
    "tüm hepsini bir float gibi tanıdı yani elemanları tek tip olarak tutuyor."
   ]
  },
  {
   "cell_type": "code",
   "execution_count": null,
   "id": "a4736af1-81bc-4634-98b4-0d85662c39f8",
   "metadata": {},
   "outputs": [],
   "source": []
  },
  {
   "cell_type": "code",
   "execution_count": 11,
   "id": "21a51ef1-e21c-40a9-b71d-05f5fab6e512",
   "metadata": {
    "tags": []
   },
   "outputs": [],
   "source": [
    "#sıfırdan array oluşturma "
   ]
  },
  {
   "cell_type": "code",
   "execution_count": 13,
   "id": "406c6f3a-2136-43fa-b0ba-558d0dd52811",
   "metadata": {
    "tags": []
   },
   "outputs": [
    {
     "data": {
      "text/plain": [
       "array([0, 0, 0, 0, 0, 0, 0, 0, 0, 0, 0, 0, 0, 0, 0, 0, 0, 0, 0, 0])"
      ]
     },
     "execution_count": 13,
     "metadata": {},
     "output_type": "execute_result"
    }
   ],
   "source": [
    "np.zeros(20 , dtype = int)"
   ]
  },
  {
   "cell_type": "code",
   "execution_count": 14,
   "id": "58f183f8-af48-4dd9-8212-e226011ad1ab",
   "metadata": {
    "tags": []
   },
   "outputs": [
    {
     "data": {
      "text/plain": [
       "array([[1., 1., 1.],\n",
       "       [1., 1., 1.],\n",
       "       [1., 1., 1.]])"
      ]
     },
     "execution_count": 14,
     "metadata": {},
     "output_type": "execute_result"
    }
   ],
   "source": [
    "np.ones((3,3) , dtype = float ) "
   ]
  },
  {
   "cell_type": "code",
   "execution_count": 15,
   "id": "8846aa4e-c582-4879-b129-d71caf2bac94",
   "metadata": {
    "tags": []
   },
   "outputs": [
    {
     "data": {
      "text/plain": [
       "array([[4, 4],\n",
       "       [4, 4],\n",
       "       [4, 4]])"
      ]
     },
     "execution_count": 15,
     "metadata": {},
     "output_type": "execute_result"
    }
   ],
   "source": [
    "np.full((3,2),4)"
   ]
  },
  {
   "cell_type": "code",
   "execution_count": 16,
   "id": "dc8e2061-1bb6-4f5e-bc08-53f654afa790",
   "metadata": {
    "tags": []
   },
   "outputs": [
    {
     "data": {
      "text/plain": [
       "array([ 0,  5, 10, 15, 20, 25, 30])"
      ]
     },
     "execution_count": 16,
     "metadata": {},
     "output_type": "execute_result"
    }
   ],
   "source": [
    "np.arange(0,31,5)"
   ]
  },
  {
   "cell_type": "code",
   "execution_count": 17,
   "id": "3fbb08b1-77b5-4182-8dea-d0d730dee736",
   "metadata": {
    "tags": []
   },
   "outputs": [
    {
     "data": {
      "text/plain": [
       "array([0.        , 0.44444444, 0.88888889, 1.33333333, 1.77777778,\n",
       "       2.22222222, 2.66666667, 3.11111111, 3.55555556, 4.        ])"
      ]
     },
     "execution_count": 17,
     "metadata": {},
     "output_type": "execute_result"
    }
   ],
   "source": [
    "np.linspace(0,4,10)"
   ]
  },
  {
   "cell_type": "code",
   "execution_count": 20,
   "id": "c59088d1-dff7-43ab-8261-c2f7538603b7",
   "metadata": {
    "tags": []
   },
   "outputs": [
    {
     "data": {
      "text/plain": [
       "array([[ 9.05037848,  9.18277278, 13.67821249],\n",
       "       [ 8.42677811, 10.98612262, 10.88704672],\n",
       "       [14.86378871, 18.18320877, 16.34503613]])"
      ]
     },
     "execution_count": 20,
     "metadata": {},
     "output_type": "execute_result"
    }
   ],
   "source": [
    "np.random.normal(10,4,(3,3))"
   ]
  },
  {
   "cell_type": "code",
   "execution_count": 21,
   "id": "6467acbb-4b42-47ed-b2d0-e8d7c3b1eead",
   "metadata": {
    "tags": []
   },
   "outputs": [
    {
     "data": {
      "text/plain": [
       "array([[8, 5, 1, 7],\n",
       "       [0, 8, 3, 6],\n",
       "       [8, 9, 1, 2]])"
      ]
     },
     "execution_count": 21,
     "metadata": {},
     "output_type": "execute_result"
    }
   ],
   "source": [
    "np.random.randint(0,10,(3,4))"
   ]
  },
  {
   "cell_type": "code",
   "execution_count": null,
   "id": "f2317bd4-1a6a-417d-85fb-4a78137d76e4",
   "metadata": {},
   "outputs": [],
   "source": []
  },
  {
   "cell_type": "markdown",
   "id": "65f60ced-d074-48ee-a19d-e08cd3e3c336",
   "metadata": {},
   "source": [
    "# Numpy array özellikleri"
   ]
  },
  {
   "cell_type": "markdown",
   "id": "109cdfa3-25d8-44bb-a12a-ad3fd43ec03c",
   "metadata": {
    "tags": []
   },
   "source": [
    "* **ndim** : _boyut sayısı_\n",
    "* shape : boyut bilgisi\n",
    "* size : toplam eleman sayısı \n",
    "* dtype : array veri tipi"
   ]
  },
  {
   "cell_type": "code",
   "execution_count": 24,
   "id": "bc00ba66-2b43-44be-94aa-31f13b036983",
   "metadata": {
    "tags": []
   },
   "outputs": [],
   "source": [
    "import numpy as np"
   ]
  },
  {
   "cell_type": "code",
   "execution_count": 26,
   "id": "1661b94a-5d3c-4b76-be1c-b0999ee05330",
   "metadata": {
    "tags": []
   },
   "outputs": [],
   "source": [
    "a = np.random.randint(0,10,(3,3))"
   ]
  },
  {
   "cell_type": "code",
   "execution_count": 27,
   "id": "c9857af5-5842-4682-94f7-d4ed768eaa8a",
   "metadata": {
    "tags": []
   },
   "outputs": [
    {
     "data": {
      "text/plain": [
       "2"
      ]
     },
     "execution_count": 27,
     "metadata": {},
     "output_type": "execute_result"
    }
   ],
   "source": [
    "a.ndim"
   ]
  },
  {
   "cell_type": "code",
   "execution_count": 28,
   "id": "9f2d39b6-3135-43fa-98a7-a3cd3dbaa16c",
   "metadata": {
    "tags": []
   },
   "outputs": [
    {
     "data": {
      "text/plain": [
       "(3, 3)"
      ]
     },
     "execution_count": 28,
     "metadata": {},
     "output_type": "execute_result"
    }
   ],
   "source": [
    "a.shape"
   ]
  },
  {
   "cell_type": "code",
   "execution_count": 29,
   "id": "007401ef-7939-49a8-870e-3f39792e9427",
   "metadata": {
    "tags": []
   },
   "outputs": [
    {
     "data": {
      "text/plain": [
       "9"
      ]
     },
     "execution_count": 29,
     "metadata": {},
     "output_type": "execute_result"
    }
   ],
   "source": [
    "a.size"
   ]
  },
  {
   "cell_type": "code",
   "execution_count": 31,
   "id": "eadbcb24-8002-4495-bfe7-3266a37966e7",
   "metadata": {
    "tags": []
   },
   "outputs": [
    {
     "data": {
      "text/plain": [
       "dtype('int64')"
      ]
     },
     "execution_count": 31,
     "metadata": {},
     "output_type": "execute_result"
    }
   ],
   "source": [
    "a.dtype"
   ]
  },
  {
   "cell_type": "markdown",
   "id": "1a4aaa00-753f-4a64-8e18-2099b3c0d1f5",
   "metadata": {},
   "source": [
    "## Yeniden Şekillendirme"
   ]
  },
  {
   "cell_type": "code",
   "execution_count": 32,
   "id": "9a76874e-9f3b-4469-8beb-a8ad767da32e",
   "metadata": {
    "tags": []
   },
   "outputs": [],
   "source": [
    "import numpy as np"
   ]
  },
  {
   "cell_type": "code",
   "execution_count": 37,
   "id": "940547d3-f135-4e9f-a623-4c12ce7e51c7",
   "metadata": {
    "tags": []
   },
   "outputs": [],
   "source": [
    "a = np.arange(1,10)"
   ]
  },
  {
   "cell_type": "code",
   "execution_count": 38,
   "id": "c5d4ed77-4354-4c3c-9926-e2136b6c4003",
   "metadata": {
    "tags": []
   },
   "outputs": [
    {
     "data": {
      "text/plain": [
       "1"
      ]
     },
     "execution_count": 38,
     "metadata": {},
     "output_type": "execute_result"
    }
   ],
   "source": [
    "a.ndim"
   ]
  },
  {
   "cell_type": "code",
   "execution_count": 41,
   "id": "5c8bc89f-0d2e-479e-b106-a6aca8af05bd",
   "metadata": {
    "tags": []
   },
   "outputs": [],
   "source": [
    "b = a.reshape((3,3))  #bu şekilde matris haline çevirdik"
   ]
  },
  {
   "cell_type": "code",
   "execution_count": 42,
   "id": "fdfd6e21-e6b1-4d83-a11d-ba2d060bac4f",
   "metadata": {
    "tags": []
   },
   "outputs": [
    {
     "data": {
      "text/plain": [
       "2"
      ]
     },
     "execution_count": 42,
     "metadata": {},
     "output_type": "execute_result"
    }
   ],
   "source": [
    "b.ndim"
   ]
  },
  {
   "cell_type": "code",
   "execution_count": null,
   "id": "3a6274fa-7313-4ab8-acc6-e5b362b2685c",
   "metadata": {},
   "outputs": [],
   "source": []
  },
  {
   "cell_type": "markdown",
   "id": "f0b7eb72-0256-44af-852c-b6f24ec0d398",
   "metadata": {},
   "source": [
    "# Array Birleştirme(Concatenation)"
   ]
  },
  {
   "cell_type": "code",
   "execution_count": 43,
   "id": "8479c715-cca8-4ce9-bc57-cb554570ebbd",
   "metadata": {
    "tags": []
   },
   "outputs": [],
   "source": [
    "import numpy as np"
   ]
  },
  {
   "cell_type": "code",
   "execution_count": null,
   "id": "d14f92e6-89a0-4cd4-8b8e-9bd71c0ff274",
   "metadata": {},
   "outputs": [],
   "source": [
    "x = np.array([1,2,3])\n"
   ]
  }
 ],
 "metadata": {
  "kernelspec": {
   "display_name": "Python 3 (ipykernel)",
   "language": "python",
   "name": "python3"
  },
  "language_info": {
   "codemirror_mode": {
    "name": "ipython",
    "version": 3
   },
   "file_extension": ".py",
   "mimetype": "text/x-python",
   "name": "python",
   "nbconvert_exporter": "python",
   "pygments_lexer": "ipython3",
   "version": "3.11.5"
  }
 },
 "nbformat": 4,
 "nbformat_minor": 5
}
