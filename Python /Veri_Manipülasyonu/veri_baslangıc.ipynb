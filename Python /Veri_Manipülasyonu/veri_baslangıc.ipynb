{
 "cells": [
  {
   "cell_type": "code",
   "execution_count": 2,
   "id": "fa6329fa-0605-43b9-bd8d-ffd56e74edd3",
   "metadata": {
    "tags": []
   },
   "outputs": [],
   "source": [
    "import numpy as np"
   ]
  },
  {
   "cell_type": "code",
   "execution_count": 3,
   "id": "27895d6d-fadf-429a-8b7b-a1b07f06b3f3",
   "metadata": {
    "tags": []
   },
   "outputs": [],
   "source": [
    "a = np.array([1,2,3,4])\n",
    "b = np.array([7,8,9,10])"
   ]
  },
  {
   "cell_type": "code",
   "execution_count": 4,
   "id": "18a3f006-7024-4251-aec4-a22ae71b5684",
   "metadata": {
    "tags": []
   },
   "outputs": [
    {
     "data": {
      "text/plain": [
       "array([ 7, 16, 27, 40])"
      ]
     },
     "execution_count": 4,
     "metadata": {},
     "output_type": "execute_result"
    }
   ],
   "source": [
    "a*b"
   ]
  },
  {
   "cell_type": "markdown",
   "id": "b956bbd6-e358-4f78-9ab2-ad850bbd23c2",
   "metadata": {},
   "source": [
    "Bu işlemde numpy kütüphanesi sayesinde daha iyi bellek yönetimi ile işlemi kolayca yaparız.Sabit bir type da eleman tutar. "
   ]
  },
  {
   "cell_type": "markdown",
   "id": "2797d0ba-925c-40ce-a9a7-e71b1f74aa79",
   "metadata": {
    "tags": []
   },
   "source": [
    "# Numpy array oluşturma"
   ]
  },
  {
   "cell_type": "code",
   "execution_count": 7,
   "id": "873504ef-7cc4-4220-89e3-234bfa4cd078",
   "metadata": {
    "tags": []
   },
   "outputs": [],
   "source": [
    "import numpy as np "
   ]
  },
  {
   "cell_type": "code",
   "execution_count": 8,
   "id": "f1db91ea-cef2-4a67-a056-379f476cdba7",
   "metadata": {},
   "outputs": [],
   "source": [
    "a = np.array([2.0 , 4, 5, 7.122414124])"
   ]
  },
  {
   "cell_type": "code",
   "execution_count": 9,
   "id": "2367b91e-c095-4e82-85ce-6dde62e6a064",
   "metadata": {
    "tags": []
   },
   "outputs": [
    {
     "data": {
      "text/plain": [
       "numpy.ndarray"
      ]
     },
     "execution_count": 9,
     "metadata": {},
     "output_type": "execute_result"
    }
   ],
   "source": [
    "type(a)"
   ]
  },
  {
   "cell_type": "code",
   "execution_count": 10,
   "id": "c293c427-2a4f-4799-9595-fb62dca4c8d9",
   "metadata": {
    "tags": []
   },
   "outputs": [
    {
     "data": {
      "text/plain": [
       "array([2.        , 4.        , 5.        , 7.12241412])"
      ]
     },
     "execution_count": 10,
     "metadata": {},
     "output_type": "execute_result"
    }
   ],
   "source": [
    "a"
   ]
  },
  {
   "cell_type": "markdown",
   "id": "fe107559-2352-4e9c-bb62-82531d43cc5f",
   "metadata": {},
   "source": [
    "tüm hepsini bir float gibi tanıdı yani elemanları tek tip olarak tutuyor."
   ]
  },
  {
   "cell_type": "code",
   "execution_count": null,
   "id": "a4736af1-81bc-4634-98b4-0d85662c39f8",
   "metadata": {},
   "outputs": [],
   "source": []
  },
  {
   "cell_type": "code",
   "execution_count": 11,
   "id": "21a51ef1-e21c-40a9-b71d-05f5fab6e512",
   "metadata": {
    "tags": []
   },
   "outputs": [],
   "source": [
    "#sıfırdan array oluşturma "
   ]
  },
  {
   "cell_type": "code",
   "execution_count": 13,
   "id": "406c6f3a-2136-43fa-b0ba-558d0dd52811",
   "metadata": {
    "tags": []
   },
   "outputs": [
    {
     "data": {
      "text/plain": [
       "array([0, 0, 0, 0, 0, 0, 0, 0, 0, 0, 0, 0, 0, 0, 0, 0, 0, 0, 0, 0])"
      ]
     },
     "execution_count": 13,
     "metadata": {},
     "output_type": "execute_result"
    }
   ],
   "source": [
    "np.zeros(20 , dtype = int)"
   ]
  },
  {
   "cell_type": "code",
   "execution_count": 14,
   "id": "58f183f8-af48-4dd9-8212-e226011ad1ab",
   "metadata": {
    "tags": []
   },
   "outputs": [
    {
     "data": {
      "text/plain": [
       "array([[1., 1., 1.],\n",
       "       [1., 1., 1.],\n",
       "       [1., 1., 1.]])"
      ]
     },
     "execution_count": 14,
     "metadata": {},
     "output_type": "execute_result"
    }
   ],
   "source": [
    "np.ones((3,3) , dtype = float ) "
   ]
  },
  {
   "cell_type": "code",
   "execution_count": 15,
   "id": "8846aa4e-c582-4879-b129-d71caf2bac94",
   "metadata": {
    "tags": []
   },
   "outputs": [
    {
     "data": {
      "text/plain": [
       "array([[4, 4],\n",
       "       [4, 4],\n",
       "       [4, 4]])"
      ]
     },
     "execution_count": 15,
     "metadata": {},
     "output_type": "execute_result"
    }
   ],
   "source": [
    "np.full((3,2),4)"
   ]
  },
  {
   "cell_type": "code",
   "execution_count": 16,
   "id": "dc8e2061-1bb6-4f5e-bc08-53f654afa790",
   "metadata": {
    "tags": []
   },
   "outputs": [
    {
     "data": {
      "text/plain": [
       "array([ 0,  5, 10, 15, 20, 25, 30])"
      ]
     },
     "execution_count": 16,
     "metadata": {},
     "output_type": "execute_result"
    }
   ],
   "source": [
    "np.arange(0,31,5)"
   ]
  },
  {
   "cell_type": "code",
   "execution_count": 17,
   "id": "3fbb08b1-77b5-4182-8dea-d0d730dee736",
   "metadata": {
    "tags": []
   },
   "outputs": [
    {
     "data": {
      "text/plain": [
       "array([0.        , 0.44444444, 0.88888889, 1.33333333, 1.77777778,\n",
       "       2.22222222, 2.66666667, 3.11111111, 3.55555556, 4.        ])"
      ]
     },
     "execution_count": 17,
     "metadata": {},
     "output_type": "execute_result"
    }
   ],
   "source": [
    "np.linspace(0,4,10)"
   ]
  },
  {
   "cell_type": "code",
   "execution_count": 20,
   "id": "c59088d1-dff7-43ab-8261-c2f7538603b7",
   "metadata": {
    "tags": []
   },
   "outputs": [
    {
     "data": {
      "text/plain": [
       "array([[ 9.05037848,  9.18277278, 13.67821249],\n",
       "       [ 8.42677811, 10.98612262, 10.88704672],\n",
       "       [14.86378871, 18.18320877, 16.34503613]])"
      ]
     },
     "execution_count": 20,
     "metadata": {},
     "output_type": "execute_result"
    }
   ],
   "source": [
    "np.random.normal(10,4,(3,3))"
   ]
  },
  {
   "cell_type": "code",
   "execution_count": 21,
   "id": "6467acbb-4b42-47ed-b2d0-e8d7c3b1eead",
   "metadata": {
    "tags": []
   },
   "outputs": [
    {
     "data": {
      "text/plain": [
       "array([[8, 5, 1, 7],\n",
       "       [0, 8, 3, 6],\n",
       "       [8, 9, 1, 2]])"
      ]
     },
     "execution_count": 21,
     "metadata": {},
     "output_type": "execute_result"
    }
   ],
   "source": [
    "np.random.randint(0,10,(3,4))"
   ]
  },
  {
   "cell_type": "code",
   "execution_count": null,
   "id": "f2317bd4-1a6a-417d-85fb-4a78137d76e4",
   "metadata": {},
   "outputs": [],
   "source": []
  },
  {
   "cell_type": "markdown",
   "id": "65f60ced-d074-48ee-a19d-e08cd3e3c336",
   "metadata": {},
   "source": [
    "# Numpy array özellikleri"
   ]
  },
  {
   "cell_type": "markdown",
   "id": "109cdfa3-25d8-44bb-a12a-ad3fd43ec03c",
   "metadata": {
    "tags": []
   },
   "source": [
    "* **ndim** : _boyut sayısı_\n",
    "* shape : boyut bilgisi\n",
    "* size : toplam eleman sayısı \n",
    "* dtype : array veri tipi"
   ]
  },
  {
   "cell_type": "code",
   "execution_count": 24,
   "id": "bc00ba66-2b43-44be-94aa-31f13b036983",
   "metadata": {
    "tags": []
   },
   "outputs": [],
   "source": [
    "import numpy as np"
   ]
  },
  {
   "cell_type": "code",
   "execution_count": 26,
   "id": "1661b94a-5d3c-4b76-be1c-b0999ee05330",
   "metadata": {
    "tags": []
   },
   "outputs": [],
   "source": [
    "a = np.random.randint(0,10,(3,3))"
   ]
  },
  {
   "cell_type": "code",
   "execution_count": 27,
   "id": "c9857af5-5842-4682-94f7-d4ed768eaa8a",
   "metadata": {
    "tags": []
   },
   "outputs": [
    {
     "data": {
      "text/plain": [
       "2"
      ]
     },
     "execution_count": 27,
     "metadata": {},
     "output_type": "execute_result"
    }
   ],
   "source": [
    "a.ndim"
   ]
  },
  {
   "cell_type": "code",
   "execution_count": 28,
   "id": "9f2d39b6-3135-43fa-98a7-a3cd3dbaa16c",
   "metadata": {
    "tags": []
   },
   "outputs": [
    {
     "data": {
      "text/plain": [
       "(3, 3)"
      ]
     },
     "execution_count": 28,
     "metadata": {},
     "output_type": "execute_result"
    }
   ],
   "source": [
    "a.shape"
   ]
  },
  {
   "cell_type": "code",
   "execution_count": 29,
   "id": "007401ef-7939-49a8-870e-3f39792e9427",
   "metadata": {
    "tags": []
   },
   "outputs": [
    {
     "data": {
      "text/plain": [
       "9"
      ]
     },
     "execution_count": 29,
     "metadata": {},
     "output_type": "execute_result"
    }
   ],
   "source": [
    "a.size"
   ]
  },
  {
   "cell_type": "code",
   "execution_count": 31,
   "id": "eadbcb24-8002-4495-bfe7-3266a37966e7",
   "metadata": {
    "tags": []
   },
   "outputs": [
    {
     "data": {
      "text/plain": [
       "dtype('int64')"
      ]
     },
     "execution_count": 31,
     "metadata": {},
     "output_type": "execute_result"
    }
   ],
   "source": [
    "a.dtype"
   ]
  },
  {
   "cell_type": "markdown",
   "id": "1a4aaa00-753f-4a64-8e18-2099b3c0d1f5",
   "metadata": {},
   "source": [
    "## Yeniden Şekillendirme"
   ]
  },
  {
   "cell_type": "code",
   "execution_count": 32,
   "id": "9a76874e-9f3b-4469-8beb-a8ad767da32e",
   "metadata": {
    "tags": []
   },
   "outputs": [],
   "source": [
    "import numpy as np"
   ]
  },
  {
   "cell_type": "code",
   "execution_count": 37,
   "id": "940547d3-f135-4e9f-a623-4c12ce7e51c7",
   "metadata": {
    "tags": []
   },
   "outputs": [],
   "source": [
    "a = np.arange(1,10)"
   ]
  },
  {
   "cell_type": "code",
   "execution_count": 38,
   "id": "c5d4ed77-4354-4c3c-9926-e2136b6c4003",
   "metadata": {
    "tags": []
   },
   "outputs": [
    {
     "data": {
      "text/plain": [
       "1"
      ]
     },
     "execution_count": 38,
     "metadata": {},
     "output_type": "execute_result"
    }
   ],
   "source": [
    "a.ndim"
   ]
  },
  {
   "cell_type": "code",
   "execution_count": 41,
   "id": "5c8bc89f-0d2e-479e-b106-a6aca8af05bd",
   "metadata": {
    "tags": []
   },
   "outputs": [],
   "source": [
    "b = a.reshape((3,3))  #bu şekilde matris haline çevirdik"
   ]
  },
  {
   "cell_type": "code",
   "execution_count": 42,
   "id": "fdfd6e21-e6b1-4d83-a11d-ba2d060bac4f",
   "metadata": {
    "tags": []
   },
   "outputs": [
    {
     "data": {
      "text/plain": [
       "2"
      ]
     },
     "execution_count": 42,
     "metadata": {},
     "output_type": "execute_result"
    }
   ],
   "source": [
    "b.ndim"
   ]
  },
  {
   "cell_type": "code",
   "execution_count": null,
   "id": "3a6274fa-7313-4ab8-acc6-e5b362b2685c",
   "metadata": {},
   "outputs": [],
   "source": []
  },
  {
   "cell_type": "markdown",
   "id": "f0b7eb72-0256-44af-852c-b6f24ec0d398",
   "metadata": {},
   "source": [
    "# Array Birleştirme(Concatenation)"
   ]
  },
  {
   "cell_type": "code",
   "execution_count": 43,
   "id": "8479c715-cca8-4ce9-bc57-cb554570ebbd",
   "metadata": {
    "tags": []
   },
   "outputs": [],
   "source": [
    "import numpy as np"
   ]
  },
  {
   "cell_type": "code",
   "execution_count": 46,
   "id": "d14f92e6-89a0-4cd4-8b8e-9bd71c0ff274",
   "metadata": {
    "tags": []
   },
   "outputs": [],
   "source": [
    "x = np.array([1,2,3])\n",
    "y = np.array([4,5,6])\n",
    "z = np.array([7,8,9])"
   ]
  },
  {
   "cell_type": "code",
   "execution_count": 45,
   "id": "757ddbe1-1d93-440a-a5a6-e2ee556c6422",
   "metadata": {
    "tags": []
   },
   "outputs": [
    {
     "data": {
      "text/plain": [
       "array([1, 2, 3, 4, 5, 6])"
      ]
     },
     "execution_count": 45,
     "metadata": {},
     "output_type": "execute_result"
    }
   ],
   "source": [
    "np.concatenate([x,y])"
   ]
  },
  {
   "cell_type": "code",
   "execution_count": 47,
   "id": "8354c532-5284-459c-888d-54438331800d",
   "metadata": {
    "tags": []
   },
   "outputs": [
    {
     "data": {
      "text/plain": [
       "array([1, 2, 3, 4, 5, 6, 7, 8, 9])"
      ]
     },
     "execution_count": 47,
     "metadata": {},
     "output_type": "execute_result"
    }
   ],
   "source": [
    "np.concatenate([x,y,z])"
   ]
  },
  {
   "cell_type": "code",
   "execution_count": 48,
   "id": "7102564d-f0eb-4089-b492-42e8913eb245",
   "metadata": {
    "tags": []
   },
   "outputs": [],
   "source": [
    "a = np.random.randint(0,10 , (2,2))"
   ]
  },
  {
   "cell_type": "code",
   "execution_count": 53,
   "id": "20febdce-db58-4aae-8d69-a1dc74dd13a7",
   "metadata": {
    "tags": []
   },
   "outputs": [
    {
     "data": {
      "text/plain": [
       "array([[2, 7],\n",
       "       [5, 4],\n",
       "       [2, 7],\n",
       "       [5, 4]])"
      ]
     },
     "execution_count": 53,
     "metadata": {},
     "output_type": "execute_result"
    }
   ],
   "source": [
    "np.concatenate([a,a]) \n",
    "#otomatik olarak axis = 0 olarak gelir ve alt alta ekleme yapar."
   ]
  },
  {
   "cell_type": "code",
   "execution_count": 56,
   "id": "e8242ac0-83ae-4c59-bff4-a599d565f8a2",
   "metadata": {
    "tags": []
   },
   "outputs": [
    {
     "data": {
      "text/plain": [
       "array([[2, 7, 2, 7],\n",
       "       [5, 4, 5, 4]])"
      ]
     },
     "execution_count": 56,
     "metadata": {},
     "output_type": "execute_result"
    }
   ],
   "source": [
    "np.concatenate([a,a], axis = 1 ) \n",
    "#eğer axis = 1 dersek yan yana ekleme yapabilir."
   ]
  },
  {
   "cell_type": "code",
   "execution_count": null,
   "id": "90790e4d-c386-4bce-8475-266b2df2d179",
   "metadata": {},
   "outputs": [],
   "source": []
  },
  {
   "cell_type": "markdown",
   "id": "6d31cfea-662d-42cf-9291-30134b99e0b0",
   "metadata": {
    "tags": []
   },
   "source": [
    "# Array Ayırma (Splitting)"
   ]
  },
  {
   "cell_type": "code",
   "execution_count": 58,
   "id": "f90554d5-68a3-454a-a647-93a3dc8e4d92",
   "metadata": {
    "tags": []
   },
   "outputs": [],
   "source": [
    "import numpy as np"
   ]
  },
  {
   "cell_type": "code",
   "execution_count": 59,
   "id": "bf9c0707-59cd-47b6-beb7-122b9f8a4039",
   "metadata": {
    "tags": []
   },
   "outputs": [],
   "source": [
    "x = np.array([1,2,3,4,5,6,78,9,7])"
   ]
  },
  {
   "cell_type": "code",
   "execution_count": 67,
   "id": "7735f68f-2c38-4ea5-99bd-2f6c5debfee7",
   "metadata": {
    "tags": []
   },
   "outputs": [
    {
     "data": {
      "text/plain": [
       "[array([1, 2, 3]), array([4]), array([ 5,  6, 78,  9,  7])]"
      ]
     },
     "execution_count": 67,
     "metadata": {},
     "output_type": "execute_result"
    }
   ],
   "source": [
    "np.split(x , [3,4])    \n",
    "#0.indexten 3 e kadar 1. array\n",
    "#3.indexten 4.indexe kadar 2. array\n",
    "#geriye kalan son array olarak ayrılır."
   ]
  },
  {
   "cell_type": "code",
   "execution_count": 68,
   "id": "1bcdc7b6-3edc-4374-933d-1c8d6e8752a0",
   "metadata": {
    "tags": []
   },
   "outputs": [],
   "source": [
    "a,b,c = np.split(x,[3,4])  #a,b,c değerlerine bu şekilde arrayleri atıyor."
   ]
  },
  {
   "cell_type": "code",
   "execution_count": 63,
   "id": "6121c446-0574-4b34-8090-285cd524f49b",
   "metadata": {
    "tags": []
   },
   "outputs": [
    {
     "data": {
      "text/plain": [
       "array([1, 2, 3])"
      ]
     },
     "execution_count": 63,
     "metadata": {},
     "output_type": "execute_result"
    }
   ],
   "source": [
    "a"
   ]
  },
  {
   "cell_type": "code",
   "execution_count": 64,
   "id": "71b7f8af-e556-4e31-a758-8970e730c4d5",
   "metadata": {
    "tags": []
   },
   "outputs": [
    {
     "data": {
      "text/plain": [
       "array([4])"
      ]
     },
     "execution_count": 64,
     "metadata": {},
     "output_type": "execute_result"
    }
   ],
   "source": [
    "b"
   ]
  },
  {
   "cell_type": "code",
   "execution_count": 65,
   "id": "6b2c8796-7dc7-4dd4-a79b-c8620102ff34",
   "metadata": {
    "tags": []
   },
   "outputs": [
    {
     "data": {
      "text/plain": [
       "array([ 5,  6, 78,  9,  7])"
      ]
     },
     "execution_count": 65,
     "metadata": {},
     "output_type": "execute_result"
    }
   ],
   "source": [
    "c"
   ]
  },
  {
   "cell_type": "code",
   "execution_count": 69,
   "id": "075dd3aa-7380-4029-841c-2709bfa7b396",
   "metadata": {
    "tags": []
   },
   "outputs": [],
   "source": [
    "#İKİ BOYUTLU AYIRMA"
   ]
  },
  {
   "cell_type": "code",
   "execution_count": 70,
   "id": "48d096bb-5c02-47a9-ab26-e479925936a7",
   "metadata": {
    "tags": []
   },
   "outputs": [],
   "source": [
    "m = np.arange(16).reshape([4,4])"
   ]
  },
  {
   "cell_type": "code",
   "execution_count": 71,
   "id": "467df95b-f7f5-44cf-8eed-a9f20b2cbbcb",
   "metadata": {
    "tags": []
   },
   "outputs": [
    {
     "data": {
      "text/plain": [
       "[array([[0, 1, 2, 3],\n",
       "        [4, 5, 6, 7]]),\n",
       " array([[ 8,  9, 10, 11],\n",
       "        [12, 13, 14, 15]])]"
      ]
     },
     "execution_count": 71,
     "metadata": {},
     "output_type": "execute_result"
    }
   ],
   "source": [
    "np.vsplit(m,[2])"
   ]
  },
  {
   "cell_type": "code",
   "execution_count": 72,
   "id": "062857cb-0431-44eb-9c22-88129282e7d7",
   "metadata": {
    "tags": []
   },
   "outputs": [],
   "source": [
    "üst,alt = np.vsplit(m,[2])"
   ]
  },
  {
   "cell_type": "code",
   "execution_count": 73,
   "id": "2fdad5ff-8b0f-446b-8de0-32aeca150e06",
   "metadata": {
    "tags": []
   },
   "outputs": [
    {
     "data": {
      "text/plain": [
       "array([[0, 1, 2, 3],\n",
       "       [4, 5, 6, 7]])"
      ]
     },
     "execution_count": 73,
     "metadata": {},
     "output_type": "execute_result"
    }
   ],
   "source": [
    "üst "
   ]
  },
  {
   "cell_type": "code",
   "execution_count": 74,
   "id": "dd423d1b-3b1e-4db0-8283-0bc24030505b",
   "metadata": {
    "tags": []
   },
   "outputs": [
    {
     "data": {
      "text/plain": [
       "array([[ 8,  9, 10, 11],\n",
       "       [12, 13, 14, 15]])"
      ]
     },
     "execution_count": 74,
     "metadata": {},
     "output_type": "execute_result"
    }
   ],
   "source": [
    "alt"
   ]
  },
  {
   "cell_type": "code",
   "execution_count": null,
   "id": "dc4b9f5c-7469-4cac-a2b2-e1b9de6b5277",
   "metadata": {},
   "outputs": [],
   "source": []
  },
  {
   "cell_type": "code",
   "execution_count": null,
   "id": "0c722583-b9d5-4b99-bd0f-27b35331be65",
   "metadata": {},
   "outputs": [],
   "source": []
  },
  {
   "cell_type": "code",
   "execution_count": null,
   "id": "39219ef4-ba2c-4ee4-8d84-6b621ec5bf78",
   "metadata": {},
   "outputs": [],
   "source": []
  }
 ],
 "metadata": {
  "kernelspec": {
   "display_name": "Python 3 (ipykernel)",
   "language": "python",
   "name": "python3"
  },
  "language_info": {
   "codemirror_mode": {
    "name": "ipython",
    "version": 3
   },
   "file_extension": ".py",
   "mimetype": "text/x-python",
   "name": "python",
   "nbconvert_exporter": "python",
   "pygments_lexer": "ipython3",
   "version": "3.11.5"
  }
 },
 "nbformat": 4,
 "nbformat_minor": 5
}
